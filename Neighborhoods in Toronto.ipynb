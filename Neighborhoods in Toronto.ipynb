{
    "nbformat_minor": 1, 
    "cells": [
        {
            "source": "## Toronto Neighborhoods", 
            "cell_type": "markdown", 
            "metadata": {
                "collapsed": true
            }
        }, 
        {
            "execution_count": 1, 
            "cell_type": "code", 
            "metadata": {}, 
            "outputs": [], 
            "source": "import pandas as pd\nimport requests\nfrom bs4 import BeautifulSoup"
        }, 
        {
            "source": "#### Using beautifulSoup, the HTML table is retrived and converted into a dataframe", 
            "cell_type": "markdown", 
            "metadata": {}
        }, 
        {
            "execution_count": 13, 
            "cell_type": "code", 
            "metadata": {}, 
            "outputs": [
                {
                    "execution_count": 13, 
                    "metadata": {}, 
                    "data": {
                        "text/plain": "(20, 9)"
                    }, 
                    "output_type": "execute_result"
                }
            ], 
            "source": "res = requests.get(\"https://en.m.wikipedia.org/wiki/List_of_postal_codes_of_Canada:_M\")\nsoup = BeautifulSoup(res.content,'lxml')\ntable = soup.find_all('table')[0] \ndf = pd.read_html(str(table))[0]\ndf.head()\ndf.shape"
        }, 
        {
            "source": "#### Every cell in the dataframe represents a neighborhood\n#### So, the dataframe is flattened into a list.", 
            "cell_type": "markdown", 
            "metadata": {}
        }, 
        {
            "execution_count": 14, 
            "cell_type": "code", 
            "metadata": {}, 
            "outputs": [], 
            "source": "l = df.values.flatten().tolist()"
        }, 
        {
            "source": "#### From this list, all strings containing \"Not assigned\" are deleted", 
            "cell_type": "markdown", 
            "metadata": {}
        }, 
        {
            "execution_count": 15, 
            "cell_type": "code", 
            "metadata": {}, 
            "outputs": [], 
            "source": "l2 = [ s for s in l if \"Not assigned\" not in s]"
        }, 
        {
            "source": "#### A dataframe is created, then populated after parsing every string in the list", 
            "cell_type": "markdown", 
            "metadata": {}
        }, 
        {
            "execution_count": 16, 
            "cell_type": "code", 
            "metadata": {}, 
            "outputs": [], 
            "source": "df_neigh = pd.DataFrame(columns=['PostalCode', 'Borough', 'Neighborhood'])\ni = 0\nfor s in l2:\n    df_neigh.loc[i] = [s[0:3], s[3:s.find('(')], s[s.find(\"(\")+1:s.find(\")\")].replace(\" / \", \", \") ]\n    i = i+1"
        }, 
        {
            "execution_count": 17, 
            "cell_type": "code", 
            "metadata": {}, 
            "outputs": [
                {
                    "execution_count": 17, 
                    "metadata": {}, 
                    "data": {
                        "text/plain": "(103, 3)"
                    }, 
                    "output_type": "execute_result"
                }
            ], 
            "source": "df_neigh.shape"
        }, 
        {
            "execution_count": 19, 
            "cell_type": "code", 
            "metadata": {}, 
            "outputs": [
                {
                    "execution_count": 19, 
                    "metadata": {}, 
                    "data": {
                        "text/html": "<div>\n<style scoped>\n    .dataframe tbody tr th:only-of-type {\n        vertical-align: middle;\n    }\n\n    .dataframe tbody tr th {\n        vertical-align: top;\n    }\n\n    .dataframe thead th {\n        text-align: right;\n    }\n</style>\n<table border=\"1\" class=\"dataframe\">\n  <thead>\n    <tr style=\"text-align: right;\">\n      <th></th>\n      <th>PostalCode</th>\n      <th>Borough</th>\n      <th>Neighborhood</th>\n    </tr>\n  </thead>\n  <tbody>\n    <tr>\n      <th>0</th>\n      <td>M3A</td>\n      <td>North York</td>\n      <td>Parkwoods</td>\n    </tr>\n    <tr>\n      <th>1</th>\n      <td>M4A</td>\n      <td>North York</td>\n      <td>Victoria Village</td>\n    </tr>\n    <tr>\n      <th>2</th>\n      <td>M5A</td>\n      <td>Downtown Toronto</td>\n      <td>Regent Park, Harbourfront</td>\n    </tr>\n    <tr>\n      <th>3</th>\n      <td>M6A</td>\n      <td>North York</td>\n      <td>Lawrence Manor, Lawrence Heights</td>\n    </tr>\n    <tr>\n      <th>4</th>\n      <td>M7A</td>\n      <td>Queen's Park Ontario Provincial Governmen</td>\n      <td>M7AQueen's Park Ontario Provincial Governmen</td>\n    </tr>\n    <tr>\n      <th>5</th>\n      <td>M9A</td>\n      <td>Etobicoke</td>\n      <td>Islington Avenue</td>\n    </tr>\n    <tr>\n      <th>6</th>\n      <td>M1B</td>\n      <td>Scarborough</td>\n      <td>Malvern, Rouge</td>\n    </tr>\n    <tr>\n      <th>7</th>\n      <td>M3B</td>\n      <td>North York</td>\n      <td>Don Mills</td>\n    </tr>\n    <tr>\n      <th>8</th>\n      <td>M4B</td>\n      <td>East York</td>\n      <td>Parkview Hill, Woodbine Gardens</td>\n    </tr>\n    <tr>\n      <th>9</th>\n      <td>M5B</td>\n      <td>Downtown Toronto</td>\n      <td>Garden District, Ryerson</td>\n    </tr>\n  </tbody>\n</table>\n</div>", 
                        "text/plain": "  PostalCode                                    Borough  \\\n0        M3A                                 North York   \n1        M4A                                 North York   \n2        M5A                           Downtown Toronto   \n3        M6A                                 North York   \n4        M7A  Queen's Park Ontario Provincial Governmen   \n5        M9A                                  Etobicoke   \n6        M1B                                Scarborough   \n7        M3B                                 North York   \n8        M4B                                  East York   \n9        M5B                           Downtown Toronto   \n\n                                   Neighborhood  \n0                                     Parkwoods  \n1                              Victoria Village  \n2                     Regent Park, Harbourfront  \n3              Lawrence Manor, Lawrence Heights  \n4  M7AQueen's Park Ontario Provincial Governmen  \n5                              Islington Avenue  \n6                                Malvern, Rouge  \n7                                     Don Mills  \n8               Parkview Hill, Woodbine Gardens  \n9                      Garden District, Ryerson  "
                    }, 
                    "output_type": "execute_result"
                }
            ], 
            "source": "df_neigh.head(10)"
        }, 
        {
            "execution_count": null, 
            "cell_type": "code", 
            "metadata": {}, 
            "outputs": [], 
            "source": ""
        }
    ], 
    "metadata": {
        "kernelspec": {
            "display_name": "Python 3.5", 
            "name": "python3", 
            "language": "python"
        }, 
        "language_info": {
            "mimetype": "text/x-python", 
            "nbconvert_exporter": "python", 
            "version": "3.5.5", 
            "name": "python", 
            "file_extension": ".py", 
            "pygments_lexer": "ipython3", 
            "codemirror_mode": {
                "version": 3, 
                "name": "ipython"
            }
        }
    }, 
    "nbformat": 4
}